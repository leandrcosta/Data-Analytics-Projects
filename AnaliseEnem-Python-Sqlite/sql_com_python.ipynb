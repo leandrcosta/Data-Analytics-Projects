{
  "cells": [
    {
      "cell_type": "markdown",
      "id": "d1b3cdee-e042-40df-bee5-bd68b7758092",
      "metadata": {
        "id": "d1b3cdee-e042-40df-bee5-bd68b7758092"
      },
      "source": [
        "# **Python com SQL**"
      ]
    },
    {
      "cell_type": "code",
      "execution_count": null,
      "id": "b650f5c3-e97c-47d7-83d0-b734e57b43b5",
      "metadata": {
        "id": "b650f5c3-e97c-47d7-83d0-b734e57b43b5"
      },
      "outputs": [],
      "source": [
        "import pandas as pd\n",
        "import sqlite3"
      ]
    },
    {
      "cell_type": "markdown",
      "id": "1d8c335b-81a7-4660-9a0a-c9988a83ad9f",
      "metadata": {
        "id": "1d8c335b-81a7-4660-9a0a-c9988a83ad9f",
        "tags": []
      },
      "source": [
        "\n",
        "\n",
        "* Um Banco de Dados é uma estrutura arquitetada para armazenar e manipular dados (inclusive para grandes volumes de dados), de modo que as tabelas podem ou não se relacionar.\n",
        "* Como o SQL pode ser útil para um profissional Dados?\n",
        "    * Geralmente os dados em um banco relacional serão o principal insumo para a criação de dashboards, relatórios e projetos de Data Science (podemos fazer consultas e trazer os dados para o Pandas, e então limpar e analisar os dados, gerar visualizações e construir modelos de Machine Learning).\n",
        "* SQL (Structured Query Language ou Linguagem de Consulta Estrutura) é a linguagem padrão para administrar e consultar banco de dados relacional.\n",
        "* Neste sentido, o profissional de Dados precisa construir consultas (query) sólidas e eficientes para acessar os dados da empresa em que estiver inserido, para então criar projetos de dados e agregar valor para a empresa."
      ]
    },
    {
      "cell_type": "markdown",
      "id": "4defd99d-ed5e-4cce-9a4e-c0684dd62538",
      "metadata": {
        "id": "4defd99d-ed5e-4cce-9a4e-c0684dd62538",
        "jp-MarkdownHeadingCollapsed": true,
        "tags": []
      },
      "source": [
        "#### Subconjuntos do SQL"
      ]
    },
    {
      "cell_type": "markdown",
      "id": "9afb02cc-58bf-451a-8041-458e8c10f920",
      "metadata": {
        "id": "9afb02cc-58bf-451a-8041-458e8c10f920",
        "jp-MarkdownHeadingCollapsed": true,
        "tags": []
      },
      "source": [
        "\n",
        "\n",
        "Podemos dividir a linguagem SQl de acordo com as operações realizadas no banco de dados, vejamos os principais comandos:\n",
        "\n",
        "DML - Linguagem de Manipulação de Dados\n",
        "\n",
        "* INSERT (inserção de um registro)\n",
        "* UPDATE (atualização de valores)\n",
        "* DELETE (remoção de linhas)\n",
        "\n",
        "DDL - Linguagem de Definição de Dados\n",
        "\n",
        "* CREATE (criar objetos no banco de dados, tabela por exemplo)\n",
        "* DROP (apagar objetos no banco de dados, tabela por exemplo)\n",
        "* ALTER (alterar um objeto no banco de dados, adicionar uma coluna em uma tabela)\n",
        "\n",
        "DCL - Linguagem de Controle de Dados\n",
        "\n",
        "* GRANT (autoriza o usuário a realizar operações)\n",
        "* REVOKE (remove/restringe as operações que um usuário pode realizar)\n",
        "\n",
        "DTL - Linguagem de Transação de Dados\n",
        "\n",
        "* COMMIT (finaliza uma transação)\n",
        "* ROLLBACK (descarta mudanças desde o último COMMIT ou ROLLBACK)\n",
        "\n",
        "\n",
        "DQL - Linguagem de Consulta de Dados\n",
        "\n",
        "* SELECT (realiza consultas)\n",
        "\n",
        "Resumindo, podemos dizer que os principais comandos são:\n",
        "\n",
        "* SELECT\n",
        "* INSERT\n",
        "* UPDATE\n",
        "* DELETE"
      ]
    },
    {
      "cell_type": "markdown",
      "id": "e033c655-0118-4e9d-8e00-b2436e4b4682",
      "metadata": {
        "id": "e033c655-0118-4e9d-8e00-b2436e4b4682",
        "jp-MarkdownHeadingCollapsed": true,
        "tags": []
      },
      "source": [
        "#### Variáveis globais"
      ]
    },
    {
      "cell_type": "code",
      "execution_count": null,
      "id": "edc021bf-85f6-40e2-a6a9-c132c9a65afd",
      "metadata": {
        "id": "edc021bf-85f6-40e2-a6a9-c132c9a65afd"
      },
      "outputs": [],
      "source": [
        "# cria conexão com o SQL\n",
        "db_name = 'enem'\n",
        "conn    = sqlite3.connect(f'{db_name}.db')\n",
        "tb_full_name  = 'tb_enem'\n",
        "tb_quest_name = 'tb_dados_socioeconomicos'\n",
        "# dados enem\n",
        "df    = pd.read_csv('dados_enem_2021_BA.csv')\n",
        "quest = pd.read_csv('dados_enem_2021_BA_questoes_socieconomicas.csv')"
      ]
    },
    {
      "cell_type": "markdown",
      "id": "068f2488-370a-4aea-89d1-617b3e2807a7",
      "metadata": {
        "id": "068f2488-370a-4aea-89d1-617b3e2807a7",
        "jp-MarkdownHeadingCollapsed": true,
        "tags": []
      },
      "source": [
        "#### Cria banco de dados"
      ]
    },
    {
      "cell_type": "markdown",
      "id": "9088647c-dd61-4a12-aa1c-d14b1478ebca",
      "metadata": {
        "id": "9088647c-dd61-4a12-aa1c-d14b1478ebca"
      },
      "source": [
        "* Insere os dados da tabela full"
      ]
    },
    {
      "cell_type": "code",
      "execution_count": null,
      "id": "85b31f9e-c52f-46ad-a45f-7d4245422c80",
      "metadata": {
        "id": "85b31f9e-c52f-46ad-a45f-7d4245422c80"
      },
      "outputs": [],
      "source": [
        "# name : nome da tabela\n",
        "# index = False : se False, não irá inserir o index do DataFrame na tabela\n",
        "# if_exists = 'append' : insere os novos valores na tabela existente\n",
        "# con : define a conexão\n",
        "df.to_sql(\n",
        "    name = tb_full_name,\n",
        "    index = False,\n",
        "    if_exists = 'append',\n",
        "    con = conn\n",
        ")"
      ]
    },
    {
      "cell_type": "markdown",
      "id": "08f6430e-d820-4e0c-a113-0c4b6238da61",
      "metadata": {
        "id": "08f6430e-d820-4e0c-a113-0c4b6238da61"
      },
      "source": [
        "* Insere os dados do questionário sócioeconômico"
      ]
    },
    {
      "cell_type": "code",
      "execution_count": null,
      "id": "c4a0afd8-6006-46fb-9027-a7d60e5b1af6",
      "metadata": {
        "id": "c4a0afd8-6006-46fb-9027-a7d60e5b1af6"
      },
      "outputs": [],
      "source": [
        "quest.to_sql(\n",
        "    name = tb_quest_name,\n",
        "    index = False,\n",
        "    if_exists = 'append',\n",
        "    con = conn\n",
        ")"
      ]
    },
    {
      "cell_type": "markdown",
      "id": "16f5ad39-aa41-4897-a41a-7532f023c5e6",
      "metadata": {
        "id": "16f5ad39-aa41-4897-a41a-7532f023c5e6",
        "tags": []
      },
      "source": [
        "### Comandos SQL"
      ]
    },
    {
      "cell_type": "markdown",
      "id": "0cfb9323-49fe-42ea-b4da-bf566f889afd",
      "metadata": {
        "id": "0cfb9323-49fe-42ea-b4da-bf566f889afd",
        "jp-MarkdownHeadingCollapsed": true,
        "tags": []
      },
      "source": [
        "#### SELECT"
      ]
    },
    {
      "cell_type": "markdown",
      "id": "448caf69-8dfe-4946-85b1-9cacb3a59943",
      "metadata": {
        "id": "448caf69-8dfe-4946-85b1-9cacb3a59943"
      },
      "source": [
        "Usado para selecionar colunas específicas:\n",
        "    \n",
        "```sql\n",
        "SELECT column_1, column_2, ..., column_n\n",
        "FROM my_table;\n",
        "```\n",
        "\n",
        "\n",
        "Para selecionar todas as colunas:\n",
        "\n",
        "```sql\n",
        "SELECT * FROM my_table;\n",
        "````"
      ]
    },
    {
      "cell_type": "code",
      "execution_count": null,
      "id": "fe053d7e-d7d1-4c5f-a407-dc2c0ebec37a",
      "metadata": {
        "id": "fe053d7e-d7d1-4c5f-a407-dc2c0ebec37a"
      },
      "outputs": [],
      "source": [
        "# seleciona colunas específicas\n",
        "query = \"\"\"\n",
        "SELECT NU_INSCRICAO, TP_SEXO\n",
        "FROM tb_enem\n",
        "\"\"\"\n",
        "tb_query = pd.read_sql_query(query, conn)\n",
        "display(tb_query)"
      ]
    },
    {
      "cell_type": "code",
      "execution_count": null,
      "id": "cf3bab72-63f9-47e3-b147-01338f81aa54",
      "metadata": {
        "id": "cf3bab72-63f9-47e3-b147-01338f81aa54"
      },
      "outputs": [],
      "source": [
        "# seleciona todas as colunas\n",
        "query = \"\"\"\n",
        "SELECT * FROM tb_enem\n",
        "\"\"\"\n",
        "tb_query = pd.read_sql_query(query, conn)\n",
        "display(tb_query)"
      ]
    },
    {
      "cell_type": "markdown",
      "id": "ae8f6d35-5452-481b-959a-066b2d85d884",
      "metadata": {
        "id": "ae8f6d35-5452-481b-959a-066b2d85d884",
        "jp-MarkdownHeadingCollapsed": true,
        "tags": []
      },
      "source": [
        "#### Filtro"
      ]
    },
    {
      "cell_type": "markdown",
      "id": "9e1fe9e9-ce86-4013-afbf-fed8b5a34c12",
      "metadata": {
        "id": "9e1fe9e9-ce86-4013-afbf-fed8b5a34c12"
      },
      "source": [
        "**Tabela**"
      ]
    },
    {
      "cell_type": "markdown",
      "id": "a76c4528-9dba-4853-a003-e73d18488c38",
      "metadata": {
        "id": "a76c4528-9dba-4853-a003-e73d18488c38"
      },
      "source": [
        "* Exemplos"
      ]
    },
    {
      "cell_type": "code",
      "execution_count": null,
      "id": "5a7c4570-b661-4b89-9233-04d1d652fa48",
      "metadata": {
        "id": "5a7c4570-b661-4b89-9233-04d1d652fa48"
      },
      "outputs": [],
      "source": [
        "# retorna apenas candidatos do sexo feminino\n",
        "query = \"\"\"\n",
        "SELECT NU_INSCRICAO, TP_SEXO, TP_ENSINO\n",
        "FROM tb_enem\n",
        "WHERE\n",
        "    TP_SEXO = 'F'\n",
        "LIMIT 5\n",
        "\"\"\"\n",
        "tb_query = pd.read_sql_query(query, conn)\n",
        "display(tb_query)"
      ]
    },
    {
      "cell_type": "code",
      "execution_count": null,
      "id": "d900f6bd-5ae5-4b51-a8b2-e697c404fa0c",
      "metadata": {
        "id": "d900f6bd-5ae5-4b51-a8b2-e697c404fa0c"
      },
      "outputs": [],
      "source": [
        "# retorna apenas candidatos do sexo feminino - usando NOT\n",
        "query = \"\"\"\n",
        "SELECT NU_INSCRICAO, TP_SEXO, TP_ENSINO\n",
        "FROM tb_enem\n",
        "WHERE\n",
        "    NOT TP_SEXO = 'M'\n",
        "LIMIT 5\n",
        "\"\"\"\n",
        "tb_query = pd.read_sql_query(query, conn)\n",
        "display(tb_query)"
      ]
    },
    {
      "cell_type": "code",
      "execution_count": null,
      "id": "0e15d776-4baa-4b91-ae50-a1f7cd0247f4",
      "metadata": {
        "id": "0e15d776-4baa-4b91-ae50-a1f7cd0247f4"
      },
      "outputs": [],
      "source": [
        "# retorna apenas candidatos do sexo feminino, que fizeram prova em Salvador\n",
        "query = \"\"\"\n",
        "SELECT NU_INSCRICAO, TP_SEXO, TP_ENSINO, NO_MUNICIPIO_PROVA\n",
        "FROM tb_enem\n",
        "WHERE\n",
        "    TP_SEXO = 'F'\n",
        "    AND NO_MUNICIPIO_PROVA = 'Salvador'\n",
        "LIMIT 5\n",
        "\"\"\"\n",
        "tb_query = pd.read_sql_query(query, conn)\n",
        "display(tb_query)"
      ]
    },
    {
      "cell_type": "code",
      "execution_count": null,
      "id": "21d54742-8526-432c-8e8d-a4b6832e9134",
      "metadata": {
        "id": "21d54742-8526-432c-8e8d-a4b6832e9134"
      },
      "outputs": [],
      "source": [
        "# retorna apenas candidatos do sexo feminino, que fizeram prova em Salvador (usando o operador IN)\n",
        "query = \"\"\"\n",
        "SELECT NU_INSCRICAO, TP_SEXO, TP_ENSINO, NO_MUNICIPIO_PROVA\n",
        "FROM tb_enem\n",
        "WHERE\n",
        "    TP_SEXO NOT IN  ('M')\n",
        "    AND NO_MUNICIPIO_PROVA IN ('Salvador')\n",
        "LIMIT 5\n",
        "\"\"\"\n",
        "tb_query = pd.read_sql_query(query, conn)\n",
        "display(tb_query)"
      ]
    },
    {
      "cell_type": "code",
      "execution_count": null,
      "id": "a6432fa2-158c-445d-8800-db19bee6e65d",
      "metadata": {
        "id": "a6432fa2-158c-445d-8800-db19bee6e65d"
      },
      "outputs": [],
      "source": [
        "# retorna apenas candidatos do sexo feminino, que fizeram prova em Salvador ou Feira de Santana\n",
        "query = \"\"\"\n",
        "SELECT NU_INSCRICAO, TP_SEXO, TP_ENSINO, NO_MUNICIPIO_PROVA\n",
        "FROM tb_enem\n",
        "WHERE\n",
        "    (NO_MUNICIPIO_PROVA = 'Salvador' OR NO_MUNICIPIO_PROVA = 'Feira de Santana')\n",
        "    AND TP_SEXO = 'F'\n",
        "LIMIT 5\n",
        "\"\"\"\n",
        "tb_query = pd.read_sql_query(query, conn)\n",
        "display(tb_query)"
      ]
    },
    {
      "cell_type": "code",
      "execution_count": null,
      "id": "067bafd2-9957-4d32-b833-4ac425073ab2",
      "metadata": {
        "id": "067bafd2-9957-4d32-b833-4ac425073ab2"
      },
      "outputs": [],
      "source": [
        "# filtra candidatos que possuem nota em matemática maior que 830 e fizeram prova em Salvador\n",
        "query = \"\"\"\n",
        "SELECT NU_INSCRICAO, TP_SEXO, NU_NOTA_MT, NO_MUNICIPIO_PROVA\n",
        "FROM tb_enem\n",
        "WHERE\n",
        "    NU_NOTA_MT >= 830\n",
        "    AND NO_MUNICIPIO_PROVA = 'Salvador'\n",
        "LIMIT 5\n",
        "\"\"\"\n",
        "tb_query = pd.read_sql_query(query, conn)\n",
        "display(tb_query)"
      ]
    },
    {
      "cell_type": "markdown",
      "id": "e51d8424-560e-4209-88c3-a62103cd2270",
      "metadata": {
        "id": "e51d8424-560e-4209-88c3-a62103cd2270",
        "tags": []
      },
      "source": [
        "* Between"
      ]
    },
    {
      "cell_type": "markdown",
      "id": "6deecdf7-2b36-41de-8364-308025681859",
      "metadata": {
        "id": "6deecdf7-2b36-41de-8364-308025681859"
      },
      "source": [
        "O operador `BETWEEN` seleciona valores dentre de um range (numérico, textual ou de temporal). Neste operador, os valores inicial e final são incluídos.\n",
        "\n",
        "Sintaxe operador `BETWEEN`:\n",
        "\n",
        "```sqlite\n",
        "SELECT column_1\n",
        "FROM my_table\n",
        "WHERE column_1 BETWEEN value_1 AND value_2;\n",
        "```"
      ]
    },
    {
      "cell_type": "code",
      "execution_count": null,
      "id": "82d759df-cc6f-489e-a231-8e9dec585f93",
      "metadata": {
        "id": "82d759df-cc6f-489e-a231-8e9dec585f93"
      },
      "outputs": [],
      "source": [
        "# seleciona registros cujos alunos tenham nota em Matemática entre 930 e 980\n",
        "query = \"\"\"\n",
        "SELECT NU_INSCRICAO, TP_SEXO, NU_NOTA_MT\n",
        "FROM tb_enem\n",
        "WHERE NU_NOTA_MT BETWEEN 930 AND 980;\n",
        "\"\"\"\n",
        "\n",
        "tb_query = pd.read_sql_query(query, conn)\n",
        "display(tb_query)"
      ]
    },
    {
      "cell_type": "markdown",
      "id": "1b342c43-fb07-4217-b932-6547a67025d5",
      "metadata": {
        "id": "1b342c43-fb07-4217-b932-6547a67025d5",
        "jp-MarkdownHeadingCollapsed": true,
        "tags": []
      },
      "source": [
        "#### Distinct"
      ]
    },
    {
      "cell_type": "markdown",
      "id": "a75fbe55-2d2d-4bd7-854d-07337c5a461a",
      "metadata": {
        "id": "a75fbe55-2d2d-4bd7-854d-07337c5a461a"
      },
      "source": [
        "O comando `SELECT DISTINCT` retorna apenas os valores únicos, equivalante ao comando `.unique()` do Pandas ou ainda `.distinct()` do PySpark. Sintaxe:\n",
        "\n",
        "```sql\n",
        "SELECT DISTINCT column\n",
        "FROM my_table;\n",
        "```"
      ]
    },
    {
      "cell_type": "code",
      "execution_count": null,
      "id": "e4a4e908-7ca7-40a3-92e0-3fa025a716d2",
      "metadata": {
        "id": "e4a4e908-7ca7-40a3-92e0-3fa025a716d2"
      },
      "outputs": [],
      "source": [
        "# colunas distintas da coluna NO_MUNICIPIO_PROVA\n",
        "query = \"\"\"\n",
        "SELECT DISTINCT NO_MUNICIPIO_PROVA\n",
        "FROM tb_enem\n",
        "\"\"\"\n",
        "tb_query = pd.read_sql_query(query, conn)\n",
        "display(tb_query)"
      ]
    },
    {
      "cell_type": "markdown",
      "id": "9ced03f8-d5ac-4117-9513-ec586b46eaaf",
      "metadata": {
        "id": "9ced03f8-d5ac-4117-9513-ec586b46eaaf",
        "jp-MarkdownHeadingCollapsed": true,
        "tags": []
      },
      "source": [
        "#### Ordenação"
      ]
    },
    {
      "cell_type": "markdown",
      "id": "59ce249b-5d39-45b6-820a-fa3c4da661d0",
      "metadata": {
        "id": "59ce249b-5d39-45b6-820a-fa3c4da661d0"
      },
      "source": [
        "O comando `ORDER BY` é utilizado para ordernar, em ordem ascendente ou descendente, os da consulta.\n",
        "\n",
        "O default é ordenar os resultado na ordem ascendente. Sintaxe:\n",
        "\n",
        "```sql\n",
        "SELECT column_1, column_2\n",
        "FROM my_table\n",
        "ORDER BY column_1, column_2 ASC|DESC;\n",
        "```"
      ]
    },
    {
      "cell_type": "code",
      "execution_count": null,
      "id": "a5e11482-1bde-449d-b5a6-cbcb6304271a",
      "metadata": {
        "id": "a5e11482-1bde-449d-b5a6-cbcb6304271a"
      },
      "outputs": [],
      "source": [
        "#\n",
        "query = \"\"\"\n",
        "SELECT NU_INSCRICAO, TP_SEXO, NU_NOTA_MT, NU_NOTA_CN\n",
        "FROM tb_enem\n",
        "WHERE\n",
        "    NO_MUNICIPIO_PROVA = 'Salvador'\n",
        "ORDER BY NU_NOTA_MT DESC, NU_NOTA_CN DESC\n",
        "LIMIT 5\n",
        "\"\"\"\n",
        "tb_query = pd.read_sql_query(query, conn)\n",
        "display(tb_query)"
      ]
    },
    {
      "cell_type": "markdown",
      "id": "d4e85d87-8910-4903-9a6a-5bc93fd4253d",
      "metadata": {
        "id": "d4e85d87-8910-4903-9a6a-5bc93fd4253d",
        "jp-MarkdownHeadingCollapsed": true,
        "tags": []
      },
      "source": [
        "#### Agregação"
      ]
    },
    {
      "cell_type": "markdown",
      "id": "19f08d63-50fa-4ae6-8329-14c381514b11",
      "metadata": {
        "id": "19f08d63-50fa-4ae6-8329-14c381514b11"
      },
      "source": [
        "Vamos aprender a usar funções para resumir os dados. Por exemplo, obter o valor mínimo, máximo ou a média de uma variável.\n",
        "\n",
        "Funções MIN() e MAX()\n",
        "\n",
        "\n",
        "* A função MIN() retorna o menor valor de uma coluna selecionada.\n",
        "* A função MAX() retorna o maior valor de uma coluna selecionada.\n",
        "\n",
        "Sintaxe MIN\n",
        "\n",
        "```sql\n",
        "SELECT MIN(column)\n",
        "FROM my_table\n",
        "WHERE condition;\n",
        "```\n",
        "\n",
        "\n",
        "\n",
        "Sintaxe MAX\n",
        "\n",
        "```sql\n",
        "SELECT MAX(column)\n",
        "FROM my_table\n",
        "WHERE condition;\n",
        "```"
      ]
    },
    {
      "cell_type": "code",
      "execution_count": null,
      "id": "8b17b467-3817-4516-9404-877af79855f8",
      "metadata": {
        "id": "8b17b467-3817-4516-9404-877af79855f8"
      },
      "outputs": [],
      "source": [
        "# nota mínima e máxima de matemática\n",
        "query = \"\"\"\n",
        "SELECT\n",
        "    MIN(NU_NOTA_MT), MAX(NU_NOTA_MT)\n",
        "FROM tb_enem\n",
        "WHERE\n",
        "    NU_NOTA_MT != 0\n",
        "\"\"\"\n",
        "tb_query = pd.read_sql_query(query, conn)\n",
        "display(tb_query)"
      ]
    },
    {
      "cell_type": "code",
      "execution_count": null,
      "id": "284a3ff4-227c-4384-bce5-13f7642af72e",
      "metadata": {
        "id": "284a3ff4-227c-4384-bce5-13f7642af72e"
      },
      "outputs": [],
      "source": [
        "# nota mínima e máxima de matemática e ciências da natureza\n",
        "query = \"\"\"\n",
        "SELECT\n",
        "    MIN(NU_NOTA_MT) as min_nota_mt,\n",
        "    MAX(NU_NOTA_MT) as max_nota_mt,\n",
        "    MIN(NU_NOTA_CN) as min_nota_cn,\n",
        "    MAX(NU_NOTA_CN) as max_nota_cn\n",
        "FROM tb_enem\n",
        "WHERE\n",
        "    NU_NOTA_MT != 0\n",
        "    AND NU_NOTA_CN != 0\n",
        "    AND NO_MUNICIPIO_PROVA = 'Salvador'\n",
        "\"\"\"\n",
        "tb_query = pd.read_sql_query(query, conn)\n",
        "display(tb_query)"
      ]
    },
    {
      "cell_type": "markdown",
      "id": "cd88aae1-a4fa-45fa-a133-0f23a550008e",
      "metadata": {
        "id": "cd88aae1-a4fa-45fa-a133-0f23a550008e"
      },
      "source": [
        "COUNT(), AVG(), SUM()"
      ]
    },
    {
      "cell_type": "markdown",
      "id": "8fa8f486-e183-445a-945b-3b416a7291c1",
      "metadata": {
        "id": "8fa8f486-e183-445a-945b-3b416a7291c1"
      },
      "source": [
        "* A função COUNT() retorna o número de linhas que corresponde a um critério especificado;\n",
        "* A função AVG() retorna o valor médio de uma coluna numérica;\n",
        "* A função SUM() retorna a soma de uma coluna numérica.\n",
        "\n",
        "\n",
        "Sintaxe COUNT\n",
        "\n",
        "```sql\n",
        "SELECT COUNT(column)\n",
        "FROM my_table\n",
        "WHERE condition;\n",
        "```\n",
        "\n",
        "Sintaxe AVG\n",
        "\n",
        "```sql\n",
        "SELECT AVG(column)\n",
        "FROM my_table\n",
        "WHERE condition;\n",
        "```\n",
        "\n",
        "Sintaxe SUM\n",
        "\n",
        "```sql\n",
        "SELECT SUM(column)\n",
        "FROM my_table\n",
        "WHERE condition;\n",
        "```"
      ]
    },
    {
      "cell_type": "markdown",
      "id": "a75147cb-7836-4cdd-b891-a39fe674656c",
      "metadata": {
        "id": "a75147cb-7836-4cdd-b891-a39fe674656c"
      },
      "source": [
        "* Sumário descritivo da nota de matemática"
      ]
    },
    {
      "cell_type": "code",
      "execution_count": null,
      "id": "4285812e-204d-40d7-a1b3-d553d1781c1f",
      "metadata": {
        "id": "4285812e-204d-40d7-a1b3-d553d1781c1f"
      },
      "outputs": [],
      "source": [
        "# nota mínima e máxima de matemática\n",
        "query = \"\"\"\n",
        "SELECT\n",
        "    MIN(NU_NOTA_MT) as min_nota_mt,\n",
        "    ROUND(AVG(NU_NOTA_MT), 2) as avg_nota_mt,\n",
        "    MAX(NU_NOTA_MT) as max_nota_mt\n",
        "FROM tb_enem\n",
        "WHERE\n",
        "    NU_NOTA_MT != 0\n",
        "\"\"\"\n",
        "tb_query = pd.read_sql_query(query, conn)\n",
        "display(tb_query)"
      ]
    },
    {
      "cell_type": "markdown",
      "id": "7782f563-e516-4eeb-932c-27faa409f78d",
      "metadata": {
        "id": "7782f563-e516-4eeb-932c-27faa409f78d"
      },
      "source": [
        "* Quantidade de inscritos em Salvador"
      ]
    },
    {
      "cell_type": "code",
      "execution_count": null,
      "id": "8b656eaa-87bf-4e21-b569-a3e31cc8b7e9",
      "metadata": {
        "id": "8b656eaa-87bf-4e21-b569-a3e31cc8b7e9"
      },
      "outputs": [],
      "source": [
        "# quantidade de inscritos em Salvador\n",
        "query = \"\"\"\n",
        "SELECT\n",
        "    COUNT(NU_INSCRICAO)\n",
        "FROM tb_enem\n",
        "WHERE NO_MUNICIPIO_PROVA = 'Salvador'\n",
        "\"\"\"\n",
        "tb_query = pd.read_sql_query(query, conn)\n",
        "display(tb_query)"
      ]
    },
    {
      "cell_type": "markdown",
      "id": "21d88ba8-bdce-4fd3-89f1-72b1412a611c",
      "metadata": {
        "id": "21d88ba8-bdce-4fd3-89f1-72b1412a611c"
      },
      "source": [
        "* Quantidade de municípios distintos dos candidatos"
      ]
    },
    {
      "cell_type": "code",
      "execution_count": null,
      "id": "7d006695-bd92-4a0a-8c95-d88297a32944",
      "metadata": {
        "id": "7d006695-bd92-4a0a-8c95-d88297a32944"
      },
      "outputs": [],
      "source": [
        "# quantidade de municípios distintos\n",
        "query = \"\"\"\n",
        "SELECT\n",
        "    COUNT(DISTINCT NO_MUNICIPIO_PROVA)\n",
        "FROM tb_enem\n",
        "\"\"\"\n",
        "tb_query = pd.read_sql_query(query, conn)\n",
        "display(tb_query)"
      ]
    },
    {
      "cell_type": "markdown",
      "id": "aec829f9-7a9a-4110-9f1b-6f0ac988eb7b",
      "metadata": {
        "id": "aec829f9-7a9a-4110-9f1b-6f0ac988eb7b",
        "jp-MarkdownHeadingCollapsed": true,
        "tags": []
      },
      "source": [
        "#### Agrupamento"
      ]
    },
    {
      "cell_type": "markdown",
      "id": "25d8c37e-c6d3-4214-b2ad-e20f10687212",
      "metadata": {
        "id": "25d8c37e-c6d3-4214-b2ad-e20f10687212"
      },
      "source": [
        "Podemos agrupar os dados e seguidamente aplicar funções de agregação, como média, soma, máximo, mínimo, dentre outras. Sintaxe:\n",
        "\n",
        "```sql\n",
        "SELECT * FROM my_table\n",
        "WHERE condition\n",
        "GROUP BY column;\n",
        "```"
      ]
    },
    {
      "cell_type": "markdown",
      "id": "6c1b1fce-59e5-4a33-a60e-7867948467ce",
      "metadata": {
        "id": "6c1b1fce-59e5-4a33-a60e-7867948467ce"
      },
      "source": [
        "* Proporção de inscritos por gênero"
      ]
    },
    {
      "cell_type": "code",
      "execution_count": null,
      "id": "e3bfef79-f0e9-424e-ba13-94b1d9e2404a",
      "metadata": {
        "id": "e3bfef79-f0e9-424e-ba13-94b1d9e2404a"
      },
      "outputs": [],
      "source": [
        "#\n",
        "query = \"\"\"\n",
        "SELECT\n",
        "    TP_SEXO as sexo,\n",
        "    COUNT(NU_INSCRICAO) as quantidade_inscritos\n",
        "FROM tb_enem\n",
        "GROUP BY TP_SEXO\n",
        "ORDER BY quantidade_inscritos DESC\n",
        "\"\"\"\n",
        "tb_query = pd.read_sql_query(query, conn)\n",
        "display(tb_query)"
      ]
    },
    {
      "cell_type": "markdown",
      "id": "f2a03754-ac7b-4575-9d89-527952368221",
      "metadata": {
        "id": "f2a03754-ac7b-4575-9d89-527952368221"
      },
      "source": [
        "* Quantidade de inscritos e desempenho escolar por município"
      ]
    },
    {
      "cell_type": "code",
      "execution_count": null,
      "id": "fcaa7599-df7b-4881-aa07-effcdd79a575",
      "metadata": {
        "id": "fcaa7599-df7b-4881-aa07-effcdd79a575"
      },
      "outputs": [],
      "source": [
        "\n",
        "query = \"\"\"\n",
        "SELECT\n",
        "    NO_MUNICIPIO_PROVA            as municipio_prova,\n",
        "    COUNT(NU_INSCRICAO)           as quantidade_inscritos,\n",
        "    MIN(NU_NOTA_MT)               as min_nota_mt,\n",
        "    ROUND(AVG(NU_NOTA_MT), 2)     as avg_nota_mt,\n",
        "    MAX(NU_NOTA_MT)               as max_nota_mt,\n",
        "    MIN(NU_NOTA_CN)               as min_nota_cn,\n",
        "    ROUND(AVG(NU_NOTA_CN), 2)     as avg_nota_cn,\n",
        "    MAX(NU_NOTA_CN)               as max_nota_cn\n",
        "FROM tb_enem\n",
        "WHERE\n",
        "    NU_NOTA_MT != 0\n",
        "    AND NU_NOTA_CN != 0\n",
        "GROUP BY municipio_prova\n",
        "ORDER BY quantidade_inscritos DESC, max_nota_mt DESC, max_nota_cn DESC\n",
        "\"\"\"\n",
        "tb_query = pd.read_sql_query(query, conn)\n",
        "display(tb_query)"
      ]
    },
    {
      "cell_type": "markdown",
      "id": "dc07d5fc-4b4f-4155-8088-841ed4f3d461",
      "metadata": {
        "id": "dc07d5fc-4b4f-4155-8088-841ed4f3d461",
        "jp-MarkdownHeadingCollapsed": true,
        "tags": []
      },
      "source": [
        "#### Joins"
      ]
    },
    {
      "cell_type": "markdown",
      "id": "c78afbad-b867-45f2-9510-b6747751df02",
      "metadata": {
        "id": "c78afbad-b867-45f2-9510-b6747751df02"
      },
      "source": [
        "Usamo `JOIN` para fazer junção de dados de duas ou mais tabelas, a partir de uma coluna em comum entre que estas tabelas compartilhem.\n",
        "\n",
        "É muito comum buscarmos informações em várias tabelas distintas, para a produção de relatórios, dashboards e modelagem.\n",
        "\n",
        "\n",
        "Diferentes tipos de JOINS:\n",
        "\n",
        "* INNER JOIN: retorna os registros com intersecção em ambas as tabelas.\n",
        "* LEFT JOIN: retorna todos os registros da tabela da esquerda e os registros em comum com a tabela da direta.\n",
        "* RIGHT JOIN: retorna todos os registros da tabela da direita e os registros em comum com a tabela da esquerda.\n",
        "* FULL JOIN: retorna todos os registros quando existe correspondência na tabela da esquerda ou da direita.\n",
        "\n",
        "<img src = 'https://www.w3schools.com/sql/img_innerjoin.gif' />\n",
        "\n",
        "<img src = 'https://www.w3schools.com/sql/img_leftjoin.gif' />\n",
        "\n",
        "<img src = 'https://www.w3schools.com/sql/img_rightjoin.gif' />\n",
        "\n",
        "<img src = 'https://www.w3schools.com/sql/img_fulljoin.gif' />\n",
        "\n",
        "Sintaxe básica:\n",
        "\n",
        "\n",
        "```sqlite\n",
        "SELECT\n",
        "    t1.column_1\n",
        "    t2.column_2\n",
        "FROM my_table_1       as t1\n",
        "INNER JOIN my_table_2 as t2\n",
        "ON t1.column_1 = t2.column_2;\n",
        "```\n",
        "\n",
        "Fonte: W3Schools."
      ]
    },
    {
      "cell_type": "markdown",
      "id": "2b92e696-8ee3-4736-8e86-f1c865ecdf40",
      "metadata": {
        "id": "2b92e696-8ee3-4736-8e86-f1c865ecdf40"
      },
      "source": [
        "* Join da tabela do ENEM com as informações sócioeconômicas"
      ]
    },
    {
      "cell_type": "code",
      "execution_count": null,
      "id": "6bef3ce7-b0f1-4540-b99b-760838b48302",
      "metadata": {
        "id": "6bef3ce7-b0f1-4540-b99b-760838b48302"
      },
      "outputs": [],
      "source": [
        "# retorna uma query com resultados descritovs para a prova de matemática a partir de alguns filtros\n",
        "# Escolaridade dos pais até Ensino Médio e Renda declarada de até 2 K\n",
        "query = \"\"\"\n",
        "SELECT\n",
        "    t1.NO_MUNICIPIO_PROVA  as municipio,\n",
        "    count(t1.NU_INSCRICAO) as quantidade_inscritos,\n",
        "    min(t1.NU_NOTA_MT)     as min_nota_mt,\n",
        "    avg(t1.NU_NOTA_MT)     as avg_nota_mt,\n",
        "    max(t1.NU_NOTA_MT)     as max_nota_mt\n",
        "FROM tb_enem as t1\n",
        "LEFT JOIN tb_dados_socioeconomicos as t2\n",
        "ON t1.NU_INSCRICAO = t2.NU_INSCRICAO\n",
        "WHERE\n",
        "    t2.Q001 NOT IN ('F', 'G', 'H')\n",
        "    AND t2.Q002 NOT IN ('F', 'G', 'H')\n",
        "    AND t2.Q006 IN ('A', 'B', 'C', 'D')\n",
        "    AND NU_NOTA_MT != 0\n",
        "GROUP BY municipio\n",
        "ORDER BY quantidade_inscritos DESC, max_nota_mt DESC\n",
        "\"\"\"\n",
        "tb_query = pd.read_sql_query(query, conn)\n",
        "display(tb_query)"
      ]
    },
    {
      "cell_type": "markdown",
      "id": "6f8e7f3d-87fb-4f3f-ac8a-6cbdbffa12f3",
      "metadata": {
        "id": "6f8e7f3d-87fb-4f3f-ac8a-6cbdbffa12f3",
        "jp-MarkdownHeadingCollapsed": true,
        "tags": []
      },
      "source": [
        "#### Case When"
      ]
    },
    {
      "cell_type": "markdown",
      "id": "098d0d5e-1e1d-4c31-a078-4b663c880f5d",
      "metadata": {
        "id": "098d0d5e-1e1d-4c31-a078-4b663c880f5d"
      },
      "source": [
        "Quando queremos aplicar regras baseadas em condições podemos utilizar a expressão `CASE`. Se a condição for verdadeira, o retorno será o valor especificado. Funciona como uma instrução if-then-else. Caso nenhuma condição seja verdadeira, a expressão retorna o valor especificado no `ELSE`."
      ]
    },
    {
      "cell_type": "markdown",
      "id": "1bfede89-5f88-40e3-867c-f8f8c1233585",
      "metadata": {
        "id": "1bfede89-5f88-40e3-867c-f8f8c1233585"
      },
      "source": [
        "Sintaxe:\n",
        "    \n",
        "```sqlite\n",
        "\n",
        "SELECT\n",
        "    column_1,\n",
        "    CASE\n",
        "        WHEN column_2 > 10 THEN 'A'\n",
        "        WHEN column_3 = 10 THEN 'B'\n",
        "        ELSE 'C'\n",
        "    END AS column_cat\n",
        "FROM my_table;\n",
        "```"
      ]
    },
    {
      "cell_type": "code",
      "execution_count": null,
      "id": "c2d136f8-6448-42fe-b8c4-c0a9617334b3",
      "metadata": {
        "id": "c2d136f8-6448-42fe-b8c4-c0a9617334b3"
      },
      "outputs": [],
      "source": [
        "# trata algumas colunas usando CASE WHEN\n",
        "query = \"\"\"\n",
        "SELECT\n",
        "    NU_INSCRICAO,\n",
        "    CASE\n",
        "        WHEN TP_SEXO = 'F' THEN 'Feminino'\n",
        "        WHEN TP_SEXO = 'M' THEN 'Masculino'\n",
        "        WHEN TP_SEXO IS NULL THEN 'missing'\n",
        "        ELSE 'verificar'\n",
        "    END AS TP_SEXO,\n",
        "    CASE\n",
        "        WHEN TP_ESTADO_CIVIL = 0 THEN 'Não informado'\n",
        "        WHEN TP_ESTADO_CIVIL = 1 THEN 'Solteiro(a)'\n",
        "        WHEN TP_ESTADO_CIVIL = 2 THEN 'Casado(a)/Mora com companheiro(a)'\n",
        "        WHEN TP_ESTADO_CIVIL = 3 THEN 'Divorciado(a)/Desquitado(a)/Separado(a)'\n",
        "        WHEN TP_ESTADO_CIVIL = 4 THEN 'Viúvo(a)'\n",
        "        WHEN TP_ESTADO_CIVIL IS NULL THEN 'missing'\n",
        "        ELSE 'verificar'\n",
        "    END AS TP_ESTADO_CIVIL,\n",
        "    CASE\n",
        "        WHEN TP_COR_RACA = 0 THEN 'Não declarado'\n",
        "        WHEN TP_COR_RACA = 1 THEN 'Branca'\n",
        "        WHEN TP_COR_RACA = 2 THEN 'Preta'\n",
        "        WHEN TP_COR_RACA = 3 THEN 'Parda'\n",
        "        WHEN TP_COR_RACA = 4 THEN 'Amarela'\n",
        "        WHEN TP_COR_RACA = 5 THEN 'Indígena'\n",
        "        WHEN TP_COR_RACA = 6 THEN 'Não dispõe da informação'\n",
        "        WHEN TP_COR_RACA IS NULL THEN 'missing'\n",
        "    END AS TP_COR_RACA,\n",
        "    CASE\n",
        "        WHEN TP_ESCOLA = 1 THEN 'Não respondeu'\n",
        "        WHEN TP_ESCOLA = 2 THEN 'Pública'\n",
        "        WHEN TP_ESCOLA = 3 THEN 'Privada'\n",
        "        ELSE 'missing'\n",
        "    END AS TP_ESCOLA,\n",
        "    CASE\n",
        "        WHEN TP_DEPENDENCIA_ADM_ESC = 1 THEN 'Federal'\n",
        "        WHEN TP_DEPENDENCIA_ADM_ESC = 2 THEN 'Estadual'\n",
        "        WHEN TP_DEPENDENCIA_ADM_ESC = 3 THEN 'Municipal'\n",
        "        WHEN TP_DEPENDENCIA_ADM_ESC = 4 THEN 'Privada'\n",
        "        WHEN TP_DEPENDENCIA_ADM_ESC IS NULL THEN 'missing'\n",
        "        ELSE 'verificar'\n",
        "    END AS TP_DEPENDENCIA_ADM_ESC,\n",
        "    CASE\n",
        "        WHEN TP_LOCALIZACAO_ESC = 1 THEN 'Urbana'\n",
        "        WHEN TP_LOCALIZACAO_ESC = 2 THEN 'Rural'\n",
        "        WHEN TP_LOCALIZACAO_ESC IS NULL THEN 'missing'\n",
        "        ELSE 'verificar'\n",
        "    END AS TP_LOCALIZACAO_ESC\n",
        "FROM tb_enem\n",
        "\"\"\"\n",
        "tb_query = pd.read_sql_query(query, conn)\n",
        "display(tb_query)"
      ]
    },
    {
      "cell_type": "markdown",
      "id": "d18ef6ca-2d58-438e-a935-d71208daa5d1",
      "metadata": {
        "id": "d18ef6ca-2d58-438e-a935-d71208daa5d1",
        "jp-MarkdownHeadingCollapsed": true,
        "tags": []
      },
      "source": [
        "#### SQL vs Pandas"
      ]
    },
    {
      "cell_type": "markdown",
      "id": "7f4fd2a0-f9f2-4dc6-82ad-a59c02a8836b",
      "metadata": {
        "id": "7f4fd2a0-f9f2-4dc6-82ad-a59c02a8836b"
      },
      "source": [
        "**Consulta, Valores únicos, count e limit**\n",
        "\n",
        "\n",
        "Seleção de colunas\n",
        "```sqlite\n",
        "SELECT column\n",
        "FROM my_table;\n",
        "```\n",
        "\n",
        "```python\n",
        "df['column']\n",
        "\n",
        "df.column\n",
        "\n",
        "df.loc[:, 'column']\n",
        "```\n",
        "\n",
        "Head\n",
        "```sqlite\n",
        "SELECT * FROM my_table\n",
        "LIMIT 5;\n",
        "```\n",
        "\n",
        "```python\n",
        "df.head()\n",
        "\n",
        "df.head(n = 5)\n",
        "```\n",
        "\n",
        "Valores distintos\n",
        "```sqlite\n",
        "SELECT DISTINCT column_1\n",
        "FROM my_table;\n",
        "```\n",
        "\n",
        "```python\n",
        "df.column_1.unique()\n",
        "```\n",
        "\n",
        "Contagem de valores únicos\n",
        "\n",
        "```sqlite\n",
        "SELECT COUNT(DISTINCT column_1)\n",
        "FROM my_table;\n",
        "```\n",
        "\n",
        "```python\n",
        "df.column.nunique()\n",
        "```\n",
        "\n",
        "\n",
        "\n",
        "**Filtros**\n",
        "\n",
        "\n",
        "Condição simples\n",
        "\n",
        "```sqlite\n",
        "SELECT *\n",
        "FROM my_table\n",
        "WHERE column_1 = 10;\n",
        "```\n",
        "\n",
        "```python\n",
        "df.query('column_1 == 10')\n",
        "\n",
        "df[(df.column_1 == 10)]\n",
        "```\n",
        "\n",
        "\n",
        "Condição múltipla\n",
        "```sqlite\n",
        "SELECT column_3\n",
        "FROM my_table\n",
        "WHERE\n",
        "    column_1 > 10\n",
        "    AND column_2 = 'A';\n",
        "```\n",
        "\n",
        "```python\n",
        "df.query(\"(column_1 > 10) & (column_2 == 'A')\")['column_3']\n",
        "\n",
        "df[(df.column_1 > 10) & (df.column_2 == 'A')]['column_3']\n",
        "```\n",
        "\n",
        "Operador IN\n",
        "\n",
        "\n",
        "```sqlite\n",
        "SELECT * FROM my_table\n",
        "WHERE column_1 IN ('A', 'B');\n",
        "```\n",
        "\n",
        "```python\n",
        "df[df.column_1.isin(['A', 'B'])]\n",
        "```\n",
        "\n",
        "NOT IN\n",
        "\n",
        "\n",
        "```sqlite\n",
        "SELECT column_1, column_2 FROM my_table\n",
        "WHERE column_1 NOT IN ('A', 'B');\n",
        "```\n",
        "\n",
        "```python\n",
        "df[~(df.column_1.isin(['A', 'B']))]['column_1', 'column_2']\n",
        "```\n",
        "\n",
        "Agregação\n",
        "\n",
        "\n",
        "```sql\n",
        "SELECT\n",
        "    MIN(column_1) AS min,\n",
        "    AVG(column_1) AS avg,\n",
        "    MAX(column_1) AS max\n",
        "FROM my_table;\n",
        "```\n",
        "\n",
        "\n",
        "```python\n",
        "df.agg({'column_1': ['min', 'mean', 'max']})\n",
        "```\n",
        "\n",
        "Ordenação\n",
        "\n",
        "\n",
        "```sql\n",
        "SELECT\n",
        "    column_1,\n",
        "    column_2\n",
        "FROM my_table\n",
        "ORDER BY column_1 DESC, column_2 DESC;\n",
        "```\n",
        "\n",
        "```python\n",
        "df.sort_values(['column_1', 'column_2'], ascending = [False, False])\n",
        "```\n",
        "\n",
        "Agrupamento\n",
        "\n",
        "```sql\n",
        "SELECT\n",
        "    column_1,\n",
        "    column_2,\n",
        "    count(column_3)\n",
        "FROM my_table\n",
        "GROUP BY 1, 2\n",
        "ORDER BY 3 DESC;\n",
        "```\n",
        "\n",
        "\n",
        "```python\n",
        "df.groupby(by = ['column_1', 'column_2'])['column_3'].count().sort_values(ascending = False)\n",
        "```\n",
        "\n",
        "\n",
        "Join\n",
        "\n",
        "\n",
        "```sqlite\n",
        "SELECT\n",
        "    t1.column_1,\n",
        "    t2.column_2\n",
        "FROM my_table_1 AS t1\n",
        "INNER JOIN my_table_2 AS t2\n",
        "    ON t1.column_1 = t2.column_2;\n",
        "```\n",
        "\n",
        "\n",
        "```python\n",
        "my_table_1.merge(my_table_2,\n",
        "                 left_on  = 'column_1',\n",
        "                 right_on = 'column_2',\n",
        "                 how      = 'inner'\n",
        "                )\n",
        "```\n",
        "\n"
      ]
    }
  ],
  "metadata": {
    "colab": {
      "provenance": []
    },
    "kernelspec": {
      "display_name": "Python 3 (ipykernel)",
      "language": "python",
      "name": "python3"
    },
    "language_info": {
      "codemirror_mode": {
        "name": "ipython",
        "version": 3
      },
      "file_extension": ".py",
      "mimetype": "text/x-python",
      "name": "python",
      "nbconvert_exporter": "python",
      "pygments_lexer": "ipython3",
      "version": "3.9.16"
    }
  },
  "nbformat": 4,
  "nbformat_minor": 5
}